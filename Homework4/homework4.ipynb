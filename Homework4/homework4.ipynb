{
 "cells": [
  {
   "cell_type": "markdown",
   "metadata": {},
   "source": [
    "# Homework 4\n",
    "\n",
    "We have learned about the basics of using machine learning and deep learning for many computer vision problems. In this assignment, we will be building a framework for object classification using PyTorch.\n",
    "\n",
    "Topics you will be learning in this assignment:\n",
    "* Defining datasets in PyTorch;\n",
    "* Defining models in PyTorch;\n",
    "* Specifying the training procedure;\n",
    "* Training and evaluating a model;\n",
    "* Tuning hyper-parameters."
   ]
  },
  {
   "cell_type": "markdown",
   "metadata": {},
   "source": [
    "First of all, you may want to do `conda install pytorch torchvision -c pytorch` in your virtual environment to install PyTorch."
   ]
  },
  {
   "cell_type": "markdown",
   "metadata": {},
   "source": [
    "## 1. Object classification on CIFAR10 with a simple ConvNet."
   ]
  },
  {
   "cell_type": "markdown",
   "metadata": {},
   "source": [
    "As one of the most famous datasets in computer vision, [CIFAR10](https://www.cs.toronto.edu/~kriz/cifar.html) is an object classfication dataset that consists of 60000 color RGB images in 10 classes, with 6000 images per class. The images are all at a resolution of 32x32. In this section, we will be working out a framework that is able to tell us what object there is in a given image, using a simple Convolution Neural Network."
   ]
  },
  {
   "cell_type": "markdown",
   "metadata": {},
   "source": [
    "### 1.1 Data preparation."
   ]
  },
  {
   "cell_type": "markdown",
   "metadata": {},
   "source": [
    "The most important ingredient in a deep learning recipe is arguably data - what we feed into the model largely determines what we get out of it. In this part, let's prepare our data in a format that will be best useable in the rest of the framework."
   ]
  },
  {
   "cell_type": "markdown",
   "metadata": {},
   "source": [
    "For vision, there's a useful package called `torchvision` that defines data loaders for common datasets as well as various image transformation operations. Let's first load and normalize the training and testing dataset using `torchvision`. "
   ]
  },
  {
   "cell_type": "markdown",
   "metadata": {},
   "source": [
    "As a quick refresher question. Why do we want to split our data into training and testing sets? (5 points)\n"
   ]
  },
  {
   "cell_type": "markdown",
   "metadata": {},
   "source": [
    "**You answer here:** Write your answer in this markdown cell.\n",
    "\n",
    "- 评估泛化能力：测试集模拟了模型在真实世界中会遇到的新数据，用它来评估模型对这些新数据的预测准确性。\n",
    "- 防止过拟合：如果模型在训练集上表现很好，但在测试集上表现差，就说明模型可能过拟合了（当然，这一般是验证集做的事，测试集也可以）。"
   ]
  },
  {
   "cell_type": "code",
   "execution_count": 1,
   "metadata": {},
   "outputs": [],
   "source": [
    "import torch\n",
    "import torchvision\n",
    "import torchvision.transforms as transforms\n",
    "import numpy as np\n",
    "import random\n",
    "# set random seeds\n",
    "torch.manual_seed(2023)\n",
    "np.random.seed(2023)\n",
    "random.seed(2023)"
   ]
  },
  {
   "cell_type": "markdown",
   "metadata": {},
   "source": [
    "From this step, you want to create two dataloaders `trainloader` and `testloader` from which we will query our data. You might want to familiarize yourself with PyTorch data structures for this. Specifically, `torch.utils.data.Dataset` and `torch.utils.data.DataLoader` might be helpful here. `torchvision` also provides convenient interfaces for some popular datasets including CIFAR10, so you may find `torchvision.datasets` helpful too.\n"
   ]
  },
  {
   "cell_type": "markdown",
   "metadata": {},
   "source": [
    "When dealing with image data, oftentimes we need to do some preprocessing to convert the data to the format we need. In this problem, the main preprocessing we need to do is normalization. Specifically, let's normalize the image to have 0.5 mean and 0.5 standard deviation for each of the 3 channels. Feel free to add in other transformations you may find necessary. `torchvision.transforms` is a good point to reference."
   ]
  },
  {
   "cell_type": "markdown",
   "metadata": {},
   "source": [
    "Why do we want to normalize the images beforehand? (5 points)\n",
    "\n",
    "\n",
    "*HINT*: consider the fact that the network we developed will be deployed to a large number of images. "
   ]
  },
  {
   "cell_type": "markdown",
   "metadata": {},
   "source": [
    "**You answer here:** Write your answer in this markdown cell.\n",
    "\n",
    "- 确保输入数据的一致性：部署时，模型会遇到来自不同来源、不同光照条件、不同拍摄设备的图像。归一化可以将这些具有不同原始尺度和分布的图像转换到一个统一的标准范围内。这使得模型在处理新图像- 时，输入的特征具有相似的尺度和分布，从而保证模型在新图像上表现的稳定性和可靠性。\n",
    "- 加速模型训练和收敛：在一定程度上归一化可以使损失函数的梯度更均匀，帮助优化算法更快地找到最优解，避免因某些特征值过大导致训练不稳定。\n",
    "- 提高模型的泛化能力和鲁棒性：通过将所有图像都进行相同的归一化处理，模型学习到的特征对光照、对比度等外部因素的变化不那么敏感。这使得模型对未见过但经过同样归一化处理的图像有更好的适应性。\n",
    "- 避免数值问题：较大的像素值（如0-255）在网络计算中可能导致数值溢出或梯度爆炸/消失等问题，尤其是在深层网络中。归一化到较小范围可以提高计算的稳定性。"
   ]
  },
  {
   "cell_type": "code",
   "execution_count": 2,
   "metadata": {},
   "outputs": [],
   "source": [
    "trainloader = None\n",
    "testloader = None\n",
    "batch_size = 4\n",
    "transform = transforms.Compose(\n",
    "    [transforms.ToTensor(), transforms.Normalize((0.5, 0.5, 0.5), (0.5, 0.5, 0.5))]\n",
    ")\n",
    "\n",
    "trainset = torchvision.datasets.CIFAR10(\n",
    "    root=\"./data\",  \n",
    "    train=True,  \n",
    "    download=True,  \n",
    "    transform=transform,\n",
    ")  \n",
    "\n",
    "trainloader = torch.utils.data.DataLoader(\n",
    "    trainset,\n",
    "    batch_size=batch_size,\n",
    "    shuffle=True,  \n",
    "    num_workers=2,\n",
    ")  \n",
    "\n",
    "testset = torchvision.datasets.CIFAR10(\n",
    "    root=\"./data\",\n",
    "    train=False,  \n",
    "    download=True,\n",
    "    transform=transform,\n",
    ")\n",
    "\n",
    "testloader = torch.utils.data.DataLoader(\n",
    "    testset,\n",
    "    batch_size=batch_size,\n",
    "    shuffle=False,  \n",
    "    num_workers=2,\n",
    ")\n",
    "\n",
    "# these are the 10 classes we have in CIFAR10\n",
    "classes = (\n",
    "    \"plane\",\n",
    "    \"car\",\n",
    "    \"bird\",\n",
    "    \"cat\",\n",
    "    \"deer\",\n",
    "    \"dog\",\n",
    "    \"frog\",\n",
    "    \"horse\",\n",
    "    \"ship\",\n",
    "    \"truck\",\n",
    ")\n",
    "# running this block will take a few minutes to download the dataset if you haven't done so"
   ]
  },
  {
   "cell_type": "markdown",
   "metadata": {},
   "source": [
    "Let's plot out some training images to see what we are dealing with:"
   ]
  },
  {
   "cell_type": "code",
   "execution_count": 3,
   "metadata": {},
   "outputs": [
    {
     "data": {
      "image/png": "[encoded data removed]",
      "text/plain": [
       "<Figure size 640x480 with 1 Axes>"
      ]
     },
     "metadata": {},
     "output_type": "display_data"
    },
    {
     "name": "stdout",
     "output_type": "stream",
     "text": [
      " bird truck   car  frog\n"
     ]
    }
   ],
   "source": [
    "import matplotlib.pyplot as plt\n",
    "\n",
    "def imshow(img):\n",
    "    img = img / 2 + 0.5     # unnormalize\n",
    "    npimg = img.numpy()\n",
    "    plt.imshow(np.transpose(npimg, (1, 2, 0)))\n",
    "    plt.show()\n",
    "\n",
    "# get some random training images\n",
    "dataiter = iter(trainloader)\n",
    "images, labels = next(dataiter)\n",
    "\n",
    "# show images\n",
    "imshow(torchvision.utils.make_grid(images))\n",
    "# print labels\n",
    "print(' '.join('%5s' % classes[labels[j]] for j in range(batch_size)))"
   ]
  },
  {
   "cell_type": "markdown",
   "metadata": {},
   "source": [
    "### 1.2 Model definition."
   ]
  },
  {
   "cell_type": "markdown",
   "metadata": {},
   "source": [
    "Now we have the data ready, the next step is to define the model that we want to train on these data. Since CIFAR10 is a small dataset, we'll just build a very simple Convolutional Neural Network for our problem. The architecture of it will be (in order):"
   ]
  },
  {
   "cell_type": "markdown",
   "metadata": {},
   "source": [
    "* 2D convolution: output feature channel number = 6, kernel size = 5x5, stride = 1, no padding;\n",
    "* 2D max pooling: kernel size = 2x2, stride = 2;\n",
    "* 2D convolution: output feature channel number = 16, kernel size = 5x5, stride = 1, no padding;\n",
    "* 2D max pooling: kernel size = 2x2, stride = 2;\n",
    "* Fully-connected layer: output feature channel number = 120;\n",
    "* Fully-connected layer: output feature channel number = 84;\n",
    "* Fully-connected layer: output feature channel number = 10 (number of classes)."
   ]
  },
  {
   "cell_type": "markdown",
   "metadata": {},
   "source": [
    "Implement the `__init__()` and `forward()` functions in `network.py`. As a good practice, `__init__()` generally defines the network architecture and `forward()` takes the runtime input `x` and passes through the network defined in `__init__()`, and returns the output. (15 points)"
   ]
  },
  {
   "cell_type": "code",
   "execution_count": 4,
   "metadata": {},
   "outputs": [
    {
     "data": {
      "text/plain": [
       "Net(\n",
       "  (conv1): Conv2d(3, 6, kernel_size=(5, 5), stride=(1, 1))\n",
       "  (pool1): MaxPool2d(kernel_size=2, stride=2, padding=0, dilation=1, ceil_mode=False)\n",
       "  (conv2): Conv2d(6, 16, kernel_size=(5, 5), stride=(1, 1))\n",
       "  (pool2): MaxPool2d(kernel_size=2, stride=2, padding=0, dilation=1, ceil_mode=False)\n",
       "  (fc1): Linear(in_features=400, out_features=120, bias=True)\n",
       "  (fc2): Linear(in_features=120, out_features=84, bias=True)\n",
       "  (fc3): Linear(in_features=84, out_features=10, bias=True)\n",
       ")"
      ]
     },
     "execution_count": 4,
     "metadata": {},
     "output_type": "execute_result"
    }
   ],
   "source": [
    "from network import Net\n",
    "device = 'cuda' if torch.cuda.is_available() else 'cpu'\n",
    "net = Net()\n",
    "net.to(device)"
   ]
  },
  {
   "cell_type": "markdown",
   "metadata": {},
   "source": [
    "### 1.3 Loss and optimizer definition."
   ]
  },
  {
   "cell_type": "markdown",
   "metadata": {},
   "source": [
    "Okay we now have the model too! The next step is to train the model on the data we have prepared. But before that , we first need to define a loss function and an optimization procedure, which specifies how well our model does and how the training process is carried out, respectively. We'll be using Cross Entropy loss as our loss function and Stochastic Gradient Descent as our optimization algorithm. We will not cover them in detail here but you are welcome to read more on it. ([this article](https://cs231n.github.io/neural-networks-2/) and [this article](https://cs231n.github.io/optimization-1/) from CS231n would be a great point to start). "
   ]
  },
  {
   "cell_type": "markdown",
   "metadata": {},
   "source": [
    "PyTorch implements very convenient interfaces for loss functions and optimizers, which we have put for you below."
   ]
  },
  {
   "cell_type": "code",
   "execution_count": 5,
   "metadata": {},
   "outputs": [],
   "source": [
    "import torch.optim as optim\n",
    "import torch.nn as nn\n",
    "\n",
    "criterion = nn.CrossEntropyLoss()\n",
    "optimizer = optim.SGD(net.parameters(), lr=0.001, momentum=0.9)"
   ]
  },
  {
   "cell_type": "markdown",
   "metadata": {},
   "source": [
    "### 1.4 Kick start training."
   ]
  },
  {
   "cell_type": "markdown",
   "metadata": {},
   "source": [
    "What we have done so far prepares all the necessary pieces for actual training, and now let's kick start the training process! Running this training block should take just several minutes on your device(CPU or GPU)."
   ]
  },
  {
   "cell_type": "code",
   "execution_count": 6,
   "metadata": {},
   "outputs": [
    {
     "name": "stdout",
     "output_type": "stream",
     "text": [
      "[1,  2000] loss: 2.186\n",
      "[1,  4000] loss: 1.848\n",
      "[1,  6000] loss: 1.689\n",
      "[1,  8000] loss: 1.587\n",
      "[1, 10000] loss: 1.515\n",
      "[1, 12000] loss: 1.467\n",
      "[2,  2000] loss: 1.417\n",
      "[2,  4000] loss: 1.403\n",
      "[2,  6000] loss: 1.353\n",
      "[2,  8000] loss: 1.335\n",
      "[2, 10000] loss: 1.295\n",
      "[2, 12000] loss: 1.289\n",
      "Finished Training\n"
     ]
    }
   ],
   "source": [
    "epoch_num = 2\n",
    "for epoch in range(epoch_num):  # loop over the dataset multiple times\n",
    "\n",
    "    running_loss = 0.0\n",
    "    for i, data in enumerate(trainloader, 0):\n",
    "        # get the inputs; data is a list of [inputs, labels]\n",
    "        inputs, labels = data\n",
    "        inputs=inputs.to(device)\n",
    "        labels=labels.to(device)\n",
    "        ### YOUR CODE HERE (10 points)\n",
    "        # zero the parameter gradients\n",
    "        # forward + backward + optimize\n",
    "        optimizer.zero_grad()\n",
    "        outputs = net(inputs)\n",
    "        loss = criterion(outputs, labels)\n",
    "        loss.backward()\n",
    "        optimizer.step()\n",
    "        ### END YOUR CODE\n",
    "\n",
    "        # print statistics\n",
    "        running_loss += loss.item()\n",
    "        if (i+1) % 2000 == 0:    # print every 2000 mini-batches\n",
    "            print('[%d, %5d] loss: %.3f' %\n",
    "                  (epoch + 1, i + 1, running_loss / 2000))\n",
    "            running_loss = 0.0\n",
    "\n",
    "print('Finished Training')"
   ]
  },
  {
   "cell_type": "markdown",
   "metadata": {},
   "source": [
    "The last step of training is to save the trained model locally to a checkpoint:"
   ]
  },
  {
   "cell_type": "code",
   "execution_count": 7,
   "metadata": {},
   "outputs": [],
   "source": [
    "PATH = './cifar_net.pth'\n",
    "torch.save(net.state_dict(), PATH)"
   ]
  },
  {
   "cell_type": "markdown",
   "metadata": {},
   "source": [
    "### 1.5 Test the trained model on the test data."
   ]
  },
  {
   "cell_type": "markdown",
   "metadata": {},
   "source": [
    "Remember earlier we split the data into training and testing set? Now we'll be using the testing split to see how our model performs on unseen data. We'll check this by predicting the class label that the neural network outputs, and comparing it against the ground-truth."
   ]
  },
  {
   "cell_type": "markdown",
   "metadata": {},
   "source": [
    "Let's first examine some data from the testing set:"
   ]
  },
  {
   "cell_type": "code",
   "execution_count": 8,
   "metadata": {},
   "outputs": [
    {
     "data": {
      "image/png": "[encoded data removed]",
      "text/plain": [
       "<Figure size 640x480 with 1 Axes>"
      ]
     },
     "metadata": {},
     "output_type": "display_data"
    },
    {
     "name": "stdout",
     "output_type": "stream",
     "text": [
      "GroundTruth:    cat  ship  ship plane\n"
     ]
    }
   ],
   "source": [
    "testiter = iter(testloader)\n",
    "images, labels = next(testiter)\n",
    "\n",
    "# print images\n",
    "imshow(torchvision.utils.make_grid(images))\n",
    "print('GroundTruth: ', ' '.join('%5s' % classes[labels[j]] for j in range(4)))"
   ]
  },
  {
   "cell_type": "markdown",
   "metadata": {},
   "source": [
    "Now, let's load in our saved model checkpoint and get its output:"
   ]
  },
  {
   "cell_type": "code",
   "execution_count": 9,
   "metadata": {},
   "outputs": [
    {
     "data": {
      "text/plain": [
       "Net(\n",
       "  (conv1): Conv2d(3, 6, kernel_size=(5, 5), stride=(1, 1))\n",
       "  (pool1): MaxPool2d(kernel_size=2, stride=2, padding=0, dilation=1, ceil_mode=False)\n",
       "  (conv2): Conv2d(6, 16, kernel_size=(5, 5), stride=(1, 1))\n",
       "  (pool2): MaxPool2d(kernel_size=2, stride=2, padding=0, dilation=1, ceil_mode=False)\n",
       "  (fc1): Linear(in_features=400, out_features=120, bias=True)\n",
       "  (fc2): Linear(in_features=120, out_features=84, bias=True)\n",
       "  (fc3): Linear(in_features=84, out_features=10, bias=True)\n",
       ")"
      ]
     },
     "execution_count": 9,
     "metadata": {},
     "output_type": "execute_result"
    }
   ],
   "source": [
    "# load in model checkpoint\n",
    "net = Net()\n",
    "net.load_state_dict(torch.load(PATH))\n",
    "net.to(device)"
   ]
  },
  {
   "cell_type": "code",
   "execution_count": 10,
   "metadata": {},
   "outputs": [
    {
     "name": "stdout",
     "output_type": "stream",
     "text": [
      "Predicted:    cat  ship  ship plane\n"
     ]
    }
   ],
   "source": [
    "# First, get the output from the model by passing in `images`;\n",
    "# Next, think about what the model outputs mean / represent, and convert it to the predicted class index (`predicted`);\n",
    "# Finally, output the predicted class label (already done for you).\n",
    "\n",
    "predicted = []\n",
    "### YOUR CODE HERE ###\n",
    "\n",
    "net.eval()\n",
    "\n",
    "with torch.no_grad():\n",
    "    outputs = net(images) \n",
    "    _, predicted_indices = torch.max(outputs, 1)\n",
    "    predicted = predicted_indices.cpu().tolist()\n",
    "### END YOUR CODE ###\n",
    "print('Predicted: ', ' '.join('%5s' % classes[predicted[j]]\n",
    "                              for j in range(4)))"
   ]
  },
  {
   "cell_type": "markdown",
   "metadata": {},
   "source": [
    "How does your prediction look like? Does that match your expectation? Write a few sentences to describe what you got and provide some analysis if you have any. (5 points)"
   ]
  },
  {
   "cell_type": "markdown",
   "metadata": {},
   "source": [
    "**You answer here:** Write your answer in this markdown cell.\n",
    "\n",
    "我的结果：Predicted:    cat  ship  ship plane，只训练了两轮，比较意外四个都是对的"
   ]
  },
  {
   "cell_type": "markdown",
   "metadata": {},
   "source": [
    "Besides inspecting these several examples, let's also look at how the network performs on the entire testing set by calculating the percentage of correctly classified examples."
   ]
  },
  {
   "cell_type": "code",
   "execution_count": 11,
   "metadata": {},
   "outputs": [
    {
     "name": "stdout",
     "output_type": "stream",
     "text": [
      "Accuracy of the network on the 10000 test images: 55 %\n"
     ]
    }
   ],
   "source": [
    "correct = 0\n",
    "total = 0\n",
    "net.eval()\n",
    "# since we're not training, we don't need to calculate the gradients for our outputs\n",
    "with torch.no_grad():\n",
    "    for data in testloader:\n",
    "        images, labels = data\n",
    "        images = images.to(device)\n",
    "        labels = labels.to(device)\n",
    "        outputs = net(images) \n",
    "        _, predicted_indices = torch.max(outputs, 1)\n",
    "        total += labels.size(0)\n",
    "        correct += (predicted_indices == labels).sum().item()\n",
    "print('Accuracy of the network on the 10000 test images: %d %%' % (\n",
    "    100 * correct / total))"
   ]
  },
  {
   "cell_type": "markdown",
   "metadata": {},
   "source": [
    "What accuracy did you get? Compared to random guessing, does your model perform significantly better? (5 points)"
   ]
  },
  {
   "cell_type": "markdown",
   "metadata": {},
   "source": [
    "**You answer here:** Write your answer in this markdown cell.\n",
    "我的正确率为55%\n"
   ]
  },
  {
   "cell_type": "markdown",
   "metadata": {},
   "source": [
    "Let's do some analysis to gain more insights of the results. One analysis we can carry out is the accuracy for each class, which can tell us what classes our model did well, and what classes our model did poorly."
   ]
  },
  {
   "cell_type": "code",
   "execution_count": 12,
   "metadata": {
    "scrolled": true
   },
   "outputs": [
    {
     "name": "stdout",
     "output_type": "stream",
     "text": [
      "Accuracy of plane : 66 %\n",
      "Accuracy of   car : 61 %\n",
      "Accuracy of  bird : 42 %\n",
      "Accuracy of   cat : 41 %\n",
      "Accuracy of  deer : 41 %\n",
      "Accuracy of   dog : 48 %\n",
      "Accuracy of  frog : 64 %\n",
      "Accuracy of horse : 65 %\n",
      "Accuracy of  ship : 61 %\n",
      "Accuracy of truck : 66 %\n"
     ]
    }
   ],
   "source": [
    "class_correct = list(0. for i in range(10))\n",
    "class_total = list(0. for i in range(10))\n",
    "\n",
    "net.eval()\n",
    "with torch.no_grad(): \n",
    "    for data in testloader: \n",
    "        images, labels = data\n",
    "        outputs = net(images)\n",
    "        _, predicted = torch.max(outputs, 1)\n",
    "        for i in range(labels.size(0)): \n",
    "            label = labels[i].item()    \n",
    "            predict = predicted[i].item() \n",
    "\n",
    "            class_total[label] += 1\n",
    "\n",
    "            if label == predict:\n",
    "                class_correct[label] += 1\n",
    "\n",
    "for i in range(10):\n",
    "    if class_total[i] > 0: \n",
    "        accuracy = 100 * class_correct[i] / class_total[i]\n",
    "        print('Accuracy of %5s : %2d %%' % (\n",
    "            classes[i], accuracy))\n",
    "    else:\n",
    "        print('Accuracy of %5s : N/A (no samples in test set)' % (\n",
    "            classes[i]))"
   ]
  },
  {
   "cell_type": "markdown",
   "metadata": {},
   "source": [
    "### 1.6 Hyper-parameter tuning."
   ]
  },
  {
   "cell_type": "markdown",
   "metadata": {},
   "source": [
    "An important phase in deep learning framework is hyper-parameter search. Hyper-parameters generally refer to those parameters that are **not** automatically optimized during the learning process, e.g., model architecture, optimizer, learning rate, batch size, training length, etc. Tuning these hyper-parameters could often lead to significant improvement of your model performance."
   ]
  },
  {
   "cell_type": "markdown",
   "metadata": {},
   "source": [
    "Your job in this section is to identify the hyper-parameters and tune them to improve the model performance as much as possible. You might want to refer to PyTorch documentation or other online resources to gain an understanding of what these hyper-parameters mean. Some of the options you might want to look into are:\n",
    "* Model architecture (number of layers, layer size, feature number, etc.);\n",
    "* Loss and optimizer (including loss function, regularization, learning rate, learning rate decay, etc.);\n",
    "* Training configuration (batch size, epoch number, etc.).\n",
    "These are by no means a complete list, but is supposed to give you an idea of the hyper-parameters. You are encouraged to identify and tune more."
   ]
  },
  {
   "cell_type": "markdown",
   "metadata": {},
   "source": [
    "Report in detail what you did in this section. Which of them improved model performance, and which did not? (15 points)"
   ]
  },
  {
   "cell_type": "code",
   "execution_count": 3,
   "metadata": {},
   "outputs": [
    {
     "name": "stdout",
     "output_type": "stream",
     "text": [
      "使用的设备是: cpu\n",
      "使用损失函数: KLDivLoss\n",
      "使用优化器: SGD (lr=0.001, momentum=0.9)\n",
      "开始训练...\n",
      "Epoch 1/5, Average Loss: 1.941\n",
      "Epoch 2/5, Average Loss: 1.786\n",
      "Epoch 3/5, Average Loss: 1.718\n",
      "Epoch 4/5, Average Loss: 1.674\n",
      "Epoch 5/5, Average Loss: 1.645\n",
      "训练完成\n",
      "网络在 10000 张测试图像上的准确率: 55.80 %\n",
      "\n",
      "各类别准确率:\n",
      "类别 plane 的准确率 : 55 %\n",
      "类别   car 的准确率 : 64 %\n",
      "类别  bird 的准确率 : 37 %\n",
      "类别   cat 的准确率 : 45 %\n",
      "类别  deer 的准确率 : 38 %\n",
      "类别   dog 的准确率 : 40 %\n",
      "类别  frog 的准确率 : 70 %\n",
      "类别 horse 的准确率 : 66 %\n",
      "类别  ship 的准确率 : 74 %\n",
      "类别 truck 的准确率 : 68 %\n"
     ]
    }
   ],
   "source": [
    "# ======================================================================\n",
    "# 0. 超参数和配置\n",
    "# ======================================================================\n",
    "LEARNING_RATE = 0.001\n",
    "NUM_EPOCHS = 5\n",
    "BATCH_SIZE = 4\n",
    "\n",
    "# 损失函数类型\n",
    "# 可选: \"CrossEntropyLoss\", \"KLDivLoss\", \"NLLLoss\"\n",
    "LOSS_FUNCTION_TYPE = \"KLDivLoss\" \n",
    "\n",
    "# 优化器类型\n",
    "# 可选: \"SGD\", \"Adam\", \"AdamW\", \"RMSprop\"\n",
    "OPTIMIZER_TYPE = \"SGD\"  \n",
    "\n",
    "# SGD优化器特定参数\n",
    "SGD_MOMENTUM = 0.9\n",
    "\n",
    "# Adam / AdamW 优化器的特定参数\n",
    "ADAM_BETAS = (0.9, 0.999)\n",
    "ADAM_EPS = 1e-8\n",
    "ADAM_WEIGHT_DECAY = 0.01 # AdamW 使用这个进行权重衰减\n",
    "\n",
    "# RMSprop 优化器的特定参数\n",
    "RMSPROP_ALPHA = 0.99 # 平滑常数\n",
    "RMSPROP_EPS = 1e-8\n",
    "RMSPROP_MOMENTUM = 0 # RMSprop也可以有动量\n",
    "RMSPROP_CENTERED = False # 是否计算中心化的RMSprop\n",
    "\n",
    "# ======================================================================\n",
    "# 1. 导入库、定义网络、设备、损失函数和优化器\n",
    "# ======================================================================\n",
    "import torch\n",
    "import torch.nn as nn\n",
    "import torch.optim as optim\n",
    "import torchvision\n",
    "import torchvision.transforms as transforms\n",
    "from network import ModifiedNet \n",
    "\n",
    "# 数据转换\n",
    "transform = transforms.Compose(\n",
    "    [transforms.ToTensor(),\n",
    "     transforms.Normalize((0.5, 0.5, 0.5), (0.5, 0.5, 0.5))]\n",
    ")\n",
    "\n",
    "# 加载CIFAR-10训练集\n",
    "trainset = torchvision.datasets.CIFAR10(\n",
    "    root=\"./data\",\n",
    "    train=True,\n",
    "    download=True,\n",
    "    transform=transform,\n",
    ")\n",
    "\n",
    "trainloader = torch.utils.data.DataLoader(\n",
    "    trainset,\n",
    "    batch_size=BATCH_SIZE,\n",
    "    shuffle=True,\n",
    "    num_workers=2,\n",
    ")\n",
    "\n",
    "# 加载CIFAR-10测试集\n",
    "testset = torchvision.datasets.CIFAR10(\n",
    "    root=\"./data\",\n",
    "    train=False,\n",
    "    download=True,\n",
    "    transform=transform,\n",
    ")\n",
    "\n",
    "testloader = torch.utils.data.DataLoader(\n",
    "    testset,\n",
    "    batch_size=BATCH_SIZE,\n",
    "    shuffle=False,\n",
    "    num_workers=2,\n",
    ")\n",
    "\n",
    "# CIFAR-10的10个类别\n",
    "classes = (\n",
    "    \"plane\", \"car\", \"bird\", \"cat\", \"deer\",\n",
    "    \"dog\", \"frog\", \"horse\", \"ship\", \"truck\",\n",
    ")\n",
    "NUM_CLASSES = len(classes)\n",
    "\n",
    "device = \"cuda\" if torch.cuda.is_available() else \"cpu\"\n",
    "print(f\"使用的设备是: {device}\")\n",
    "\n",
    "net = ModifiedNet()\n",
    "net.to(device)\n",
    "\n",
    "# 根据超参数选择损失函数\n",
    "log_softmax_layer = None # KLDivLoss 和 NLLLoss 需要它\n",
    "if LOSS_FUNCTION_TYPE == \"CrossEntropyLoss\":\n",
    "    criterion = nn.CrossEntropyLoss()\n",
    "    print(f\"使用损失函数: {LOSS_FUNCTION_TYPE}\")\n",
    "elif LOSS_FUNCTION_TYPE == \"KLDivLoss\":\n",
    "    criterion = nn.KLDivLoss(reduction='batchmean')\n",
    "    log_softmax_layer = nn.LogSoftmax(dim=1)\n",
    "    print(f\"使用损失函数: {LOSS_FUNCTION_TYPE}\")\n",
    "elif LOSS_FUNCTION_TYPE == \"NLLLoss\":\n",
    "    criterion = nn.NLLLoss()\n",
    "    log_softmax_layer = nn.LogSoftmax(dim=1) # NLLLoss 通常与 LogSoftmax 结合使用\n",
    "    print(f\"使用损失函数: {LOSS_FUNCTION_TYPE}\")\n",
    "else:\n",
    "    raise ValueError(f\"不支持的损失函数类型: {LOSS_FUNCTION_TYPE}\")\n",
    "\n",
    "# 根据超参数选择优化器\n",
    "if OPTIMIZER_TYPE == \"SGD\":\n",
    "    optimizer = optim.SGD(net.parameters(), lr=LEARNING_RATE, momentum=SGD_MOMENTUM)\n",
    "    print(f\"使用优化器: SGD (lr={LEARNING_RATE}, momentum={SGD_MOMENTUM})\")\n",
    "elif OPTIMIZER_TYPE == \"Adam\":\n",
    "    optimizer = optim.Adam(net.parameters(), lr=LEARNING_RATE, betas=ADAM_BETAS, eps=ADAM_EPS)\n",
    "    print(f\"使用优化器: Adam (lr={LEARNING_RATE}, betas={ADAM_BETAS}, eps={ADAM_EPS})\")\n",
    "elif OPTIMIZER_TYPE == \"AdamW\":\n",
    "    optimizer = optim.AdamW(net.parameters(), lr=LEARNING_RATE, betas=ADAM_BETAS, eps=ADAM_EPS, weight_decay=ADAM_WEIGHT_DECAY)\n",
    "    print(f\"使用优化器: AdamW (lr={LEARNING_RATE}, betas={ADAM_BETAS}, eps={ADAM_EPS}, weight_decay={ADAM_WEIGHT_DECAY})\")\n",
    "elif OPTIMIZER_TYPE == \"RMSprop\":\n",
    "    optimizer = optim.RMSprop(net.parameters(), lr=LEARNING_RATE, alpha=RMSPROP_ALPHA, eps=RMSPROP_EPS, momentum=RMSPROP_MOMENTUM, centered=RMSPROP_CENTERED)\n",
    "    print(f\"使用优化器: RMSprop (lr={LEARNING_RATE}, alpha={RMSPROP_ALPHA}, momentum={RMSPROP_MOMENTUM}, centered={RMSPROP_CENTERED})\")\n",
    "else:\n",
    "    raise ValueError(f\"不支持的优化器类型: {OPTIMIZER_TYPE}\")\n",
    "\n",
    "\n",
    "# ======================================================================\n",
    "# 2. 模型训练过程\n",
    "# ======================================================================\n",
    "\n",
    "print(\"开始训练...\")\n",
    "for epoch in range(NUM_EPOCHS):\n",
    "\n",
    "    running_loss = 0.0\n",
    "    for i, data in enumerate(trainloader, 0):\n",
    "\n",
    "        inputs, labels = data\n",
    "        inputs = inputs.to(device)\n",
    "        labels = labels.to(device)\n",
    "        optimizer.zero_grad()\n",
    "        outputs = net(inputs) # 网络的原始输出 (logits)\n",
    "\n",
    "        if LOSS_FUNCTION_TYPE == \"CrossEntropyLoss\":\n",
    "            loss = criterion(outputs, labels)\n",
    "        elif LOSS_FUNCTION_TYPE == \"KLDivLoss\":\n",
    "            log_probs = log_softmax_layer(outputs)\n",
    "            # 将标签转换为 one-hot 编码的概率分布\n",
    "            labels_one_hot = torch.nn.functional.one_hot(labels, num_classes=NUM_CLASSES).float().to(device)\n",
    "            loss = criterion(log_probs, labels_one_hot)\n",
    "        elif LOSS_FUNCTION_TYPE == \"NLLLoss\":\n",
    "            log_probs = log_softmax_layer(outputs) # 获取 log-probabilities\n",
    "            loss = criterion(log_probs, labels)    \n",
    "\n",
    "        loss.backward()\n",
    "        optimizer.step()\n",
    "\n",
    "        running_loss += loss.item()\n",
    "\n",
    "    epoch_loss = running_loss / len(trainloader)\n",
    "    print(f\"Epoch {epoch + 1}/{NUM_EPOCHS}, Average Loss: {epoch_loss:.3f}\")\n",
    "print(\"训练完成\")\n",
    "\n",
    "# ======================================================================\n",
    "# 4. 在整个测试集上评估模型整体准确率\n",
    "# ======================================================================\n",
    "correct = 0\n",
    "total = 0\n",
    "net.eval()\n",
    "with torch.no_grad():\n",
    "    for data in testloader:\n",
    "        images_test, labels_test = data\n",
    "        images_test = images_test.to(device)\n",
    "        labels_test = labels_test.to(device)\n",
    "        outputs_test = net(images_test)\n",
    "        _, predicted_test_indices = torch.max(outputs_test.data, 1)\n",
    "        total += labels_test.size(0)\n",
    "        correct += (predicted_test_indices == labels_test).sum().item()\n",
    "\n",
    "if total > 0:\n",
    "    print(\n",
    "        f\"网络在 {total} 张测试图像上的准确率: {100 * correct / total:.2f} %\"\n",
    "    )\n",
    "else:\n",
    "    print(\"测试集为空或 'testloader' 未正确加载，无法计算准确率。\")\n",
    "\n",
    "# ======================================================================\n",
    "# 5. 在整个测试集上评估模型每个类别的准确率\n",
    "# ======================================================================\n",
    "if classes:\n",
    "    class_correct = list(0.0 for i in range(NUM_CLASSES))\n",
    "    class_total = list(0.0 for i in range(NUM_CLASSES))\n",
    "\n",
    "    net.eval()\n",
    "    with torch.no_grad():\n",
    "        for data in testloader:\n",
    "            images_class, labels_class = data\n",
    "            images_class = images_class.to(device)\n",
    "            labels_class = labels_class.to(device)\n",
    "            outputs_class = net(images_class)\n",
    "            _, predicted_class_indices = torch.max(outputs_class, 1)\n",
    "\n",
    "            for i in range(labels_class.size(0)):\n",
    "                label_item = labels_class[i].item()\n",
    "                predict_item = predicted_class_indices[i].item()\n",
    "\n",
    "                class_total[label_item] += 1\n",
    "                if label_item == predict_item:\n",
    "                    class_correct[label_item] += 1\n",
    "\n",
    "    print(\"\\n各类别准确率:\")\n",
    "    for i in range(NUM_CLASSES):\n",
    "        if class_total[i] > 0:\n",
    "            accuracy = 100 * class_correct[i] / class_total[i]\n",
    "            print(f\"类别 {classes[i]:>5} 的准确率 : {accuracy:2.0f} %\")\n",
    "        else:\n",
    "            print(f\"类别 {classes[i]:>5} 的准确率 : N/A (测试集中无此类别样本)\")\n",
    "else:\n",
    "    print(\"未能计算各类别准确率，因为 'classes' 列表未定义。\")"
   ]
  },
  {
   "cell_type": "markdown",
   "metadata": {},
   "source": [
    "**You answer here:** Write your answer in this markdown cell.\n",
    "\n",
    "我把epoch改成了5轮，原本的2轮太少模型欠拟合，训练轮次如果过多，模型又太容易过拟合了，经过测试，五轮恰到好处。\n",
    "\n",
    "- 从 2 轮修改成 5 轮，正确率从55%到61.7%\n",
    "- 从交叉熵损失函数改为KL散度损失函数，正确率从61.7%到62.3%(半个点可能也不算真正的增长)"
   ]
  }
 ],
 "metadata": {
  "kernelspec": {
   "display_name": "Python 3",
   "language": "python",
   "name": "python3"
  },
  "language_info": {
   "codemirror_mode": {
    "name": "ipython",
    "version": 3
   },
   "file_extension": ".py",
   "mimetype": "text/x-python",
   "name": "python",
   "nbconvert_exporter": "python",
   "pygments_lexer": "ipython3",
   "version": "3.11.11"
  }
 },
 "nbformat": 4,
 "nbformat_minor": 4
}
